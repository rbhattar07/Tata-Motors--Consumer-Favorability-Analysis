{
 "cells": [
  {
   "cell_type": "code",
   "execution_count": 1149,
   "metadata": {},
   "outputs": [],
   "source": [
    "!pip install tweepy --quiet"
   ]
  },
  {
   "cell_type": "code",
   "execution_count": 1150,
   "metadata": {},
   "outputs": [
    {
     "data": {
      "text/plain": [
       "'c:\\\\Users\\\\14708\\\\anaconda3\\\\python.exe'"
      ]
     },
     "execution_count": 1150,
     "metadata": {},
     "output_type": "execute_result"
    }
   ],
   "source": [
    "import sys\n",
    "sys.executable"
   ]
  },
  {
   "cell_type": "code",
   "execution_count": 1197,
   "metadata": {},
   "outputs": [],
   "source": [
    "import random\n",
    "import numpy as np \n",
    "import pandas as pd\n",
    "\n",
    "import matplotlib\n",
    "import matplotlib.pyplot as plt \n",
    "import seaborn as sns\n",
    "import plotly.express as px \n",
    "%matplotlib inline\n",
    "\n",
    "sns.set_style('darkgrid')\n",
    "matplotlib.rcParams['font.size'] = 14\n",
    "matplotlib.rcParams['figure.figsize'] = (10, 6)\n",
    "matplotlib.rcParams['figure.facecolor'] = '#00000000'\n",
    "\n",
    "pd.set_option('display.max_columns', 25)\n",
    "pd.set_option('display.max_rows', 50)\n",
    "\n",
    "\n",
    "import nltk\n",
    "from nltk.tokenize import word_tokenize"
   ]
  },
  {
   "cell_type": "code",
   "execution_count": 1152,
   "metadata": {},
   "outputs": [],
   "source": [
    "main_df=pd.read_csv(r\"C:\\Users\\14708\\Downloads\\Tata and Hyundai cars - data.xlsx - Data.csv\")\n",
    "df = main_df.copy()"
   ]
  },
  {
   "cell_type": "markdown",
   "metadata": {},
   "source": [
    "## Data Exploration"
   ]
  },
  {
   "cell_type": "code",
   "execution_count": 1153,
   "metadata": {},
   "outputs": [
    {
     "data": {
      "text/html": [
       "<div>\n",
       "<style scoped>\n",
       "    .dataframe tbody tr th:only-of-type {\n",
       "        vertical-align: middle;\n",
       "    }\n",
       "\n",
       "    .dataframe tbody tr th {\n",
       "        vertical-align: top;\n",
       "    }\n",
       "\n",
       "    .dataframe thead th {\n",
       "        text-align: right;\n",
       "    }\n",
       "</style>\n",
       "<table border=\"1\" class=\"dataframe\">\n",
       "  <thead>\n",
       "    <tr style=\"text-align: right;\">\n",
       "      <th></th>\n",
       "      <th>Date</th>\n",
       "      <th>Headline</th>\n",
       "      <th>URL</th>\n",
       "      <th>Opening Text</th>\n",
       "      <th>Hit Sentence</th>\n",
       "      <th>Source</th>\n",
       "      <th>Influencer</th>\n",
       "      <th>Country</th>\n",
       "      <th>Subregion</th>\n",
       "      <th>Language</th>\n",
       "      <th>Reach</th>\n",
       "      <th>Desktop Reach</th>\n",
       "      <th>Mobile Reach</th>\n",
       "      <th>Twitter Social Echo</th>\n",
       "      <th>Facebook Social Echo</th>\n",
       "      <th>Reddit Social Echo</th>\n",
       "      <th>National Viewership</th>\n",
       "      <th>Engagement</th>\n",
       "      <th>Sentiment</th>\n",
       "      <th>Keywords</th>\n",
       "      <th>State</th>\n",
       "    </tr>\n",
       "  </thead>\n",
       "  <tbody>\n",
       "    <tr>\n",
       "      <th>0</th>\n",
       "      <td>28-Sep-2023 02:08PM</td>\n",
       "      <td>Kia और Hyundai ने वापस बुलाईं अपनी 35 लाख कारे...</td>\n",
       "      <td>https://hindi.pardaphash.com/kia-and-hyundai-r...</td>\n",
       "      <td>Kia and Hyundai Recalled Cars: वाहन निर्माता क...</td>\n",
       "      <td>Kia and Hyundai Recalled Cars: वाहन निर्माता क...</td>\n",
       "      <td>Pardaphash</td>\n",
       "      <td>NaN</td>\n",
       "      <td>India</td>\n",
       "      <td>Delhi</td>\n",
       "      <td>Hindi</td>\n",
       "      <td>31307.0</td>\n",
       "      <td>1279.0</td>\n",
       "      <td>30028.0</td>\n",
       "      <td>0.0</td>\n",
       "      <td>0.0</td>\n",
       "      <td>0.0</td>\n",
       "      <td>0</td>\n",
       "      <td>NaN</td>\n",
       "      <td>Neutral</td>\n",
       "      <td>Hyundai,Cars</td>\n",
       "      <td>Delhi</td>\n",
       "    </tr>\n",
       "    <tr>\n",
       "      <th>1</th>\n",
       "      <td>28-Sep-2023 01:46PM</td>\n",
       "      <td>Tata Punch EV spied, may compete with MG Comen...</td>\n",
       "      <td>https://economictimes.indiatimes.com/industry/...</td>\n",
       "      <td>Tata Motors is reportedly developing an electr...</td>\n",
       "      <td>... Punch EV is expected to compete with the M...</td>\n",
       "      <td>The Economic Times</td>\n",
       "      <td>NaN</td>\n",
       "      <td>India</td>\n",
       "      <td>National</td>\n",
       "      <td>English</td>\n",
       "      <td>15403059.0</td>\n",
       "      <td>6171732.0</td>\n",
       "      <td>9231327.0</td>\n",
       "      <td>0.0</td>\n",
       "      <td>0.0</td>\n",
       "      <td>0.0</td>\n",
       "      <td>0</td>\n",
       "      <td>NaN</td>\n",
       "      <td>Neutral</td>\n",
       "      <td>Tata,cars</td>\n",
       "      <td>Maharashtra</td>\n",
       "    </tr>\n",
       "    <tr>\n",
       "      <th>2</th>\n",
       "      <td>28-Sep-2023 01:30PM</td>\n",
       "      <td>Tata Avinya Reviews On Road Price 2023 Mileage...</td>\n",
       "      <td>https://badisoch.in/automobile-news/tata-aviny...</td>\n",
       "      <td>... (adsbygoogle = window.adsbygoogle || []).p...</td>\n",
       "      <td>... , despite most carmakers focusing on large...</td>\n",
       "      <td>Badi Soch</td>\n",
       "      <td>NaN</td>\n",
       "      <td>India</td>\n",
       "      <td>NaN</td>\n",
       "      <td>English</td>\n",
       "      <td>1128280.0</td>\n",
       "      <td>171549.0</td>\n",
       "      <td>956731.0</td>\n",
       "      <td>0.0</td>\n",
       "      <td>0.0</td>\n",
       "      <td>0.0</td>\n",
       "      <td>0</td>\n",
       "      <td>NaN</td>\n",
       "      <td>Neutral</td>\n",
       "      <td>cars,Tata</td>\n",
       "      <td>NaN</td>\n",
       "    </tr>\n",
       "    <tr>\n",
       "      <th>3</th>\n",
       "      <td>28-Sep-2023 01:24PM</td>\n",
       "      <td>NaN</td>\n",
       "      <td>http://twitter.com/automobilindia8/statuses/17...</td>\n",
       "      <td>NaN</td>\n",
       "      <td>Engine Fire-Related Risks Force Kia &amp; Hyundai ...</td>\n",
       "      <td>Twitter</td>\n",
       "      <td>@automobilindia8</td>\n",
       "      <td>India</td>\n",
       "      <td>NaN</td>\n",
       "      <td>English</td>\n",
       "      <td>2.0</td>\n",
       "      <td>NaN</td>\n",
       "      <td>NaN</td>\n",
       "      <td>NaN</td>\n",
       "      <td>NaN</td>\n",
       "      <td>NaN</td>\n",
       "      <td>0</td>\n",
       "      <td>0.0</td>\n",
       "      <td>Neutral</td>\n",
       "      <td>Hyundai,Cars,hyundai</td>\n",
       "      <td>Karnataka</td>\n",
       "    </tr>\n",
       "    <tr>\n",
       "      <th>4</th>\n",
       "      <td>28-Sep-2023 01:22PM</td>\n",
       "      <td>NaN</td>\n",
       "      <td>http://twitter.com/MalakpetD/statuses/17073021...</td>\n",
       "      <td>NaN</td>\n",
       "      <td>@srinualavilli @BMTC_BENGALURU Mahindra, Tata,...</td>\n",
       "      <td>Twitter</td>\n",
       "      <td>@MalakpetD</td>\n",
       "      <td>India</td>\n",
       "      <td>NaN</td>\n",
       "      <td>English</td>\n",
       "      <td>506.0</td>\n",
       "      <td>NaN</td>\n",
       "      <td>NaN</td>\n",
       "      <td>NaN</td>\n",
       "      <td>NaN</td>\n",
       "      <td>NaN</td>\n",
       "      <td>0</td>\n",
       "      <td>0.0</td>\n",
       "      <td>Neutral</td>\n",
       "      <td>Tata,cars</td>\n",
       "      <td>Telangana</td>\n",
       "    </tr>\n",
       "  </tbody>\n",
       "</table>\n",
       "</div>"
      ],
      "text/plain": [
       "                  Date                                           Headline  \\\n",
       "0  28-Sep-2023 02:08PM  Kia और Hyundai ने वापस बुलाईं अपनी 35 लाख कारे...   \n",
       "1  28-Sep-2023 01:46PM  Tata Punch EV spied, may compete with MG Comen...   \n",
       "2  28-Sep-2023 01:30PM  Tata Avinya Reviews On Road Price 2023 Mileage...   \n",
       "3  28-Sep-2023 01:24PM                                                NaN   \n",
       "4  28-Sep-2023 01:22PM                                                NaN   \n",
       "\n",
       "                                                 URL  \\\n",
       "0  https://hindi.pardaphash.com/kia-and-hyundai-r...   \n",
       "1  https://economictimes.indiatimes.com/industry/...   \n",
       "2  https://badisoch.in/automobile-news/tata-aviny...   \n",
       "3  http://twitter.com/automobilindia8/statuses/17...   \n",
       "4  http://twitter.com/MalakpetD/statuses/17073021...   \n",
       "\n",
       "                                        Opening Text  \\\n",
       "0  Kia and Hyundai Recalled Cars: वाहन निर्माता क...   \n",
       "1  Tata Motors is reportedly developing an electr...   \n",
       "2  ... (adsbygoogle = window.adsbygoogle || []).p...   \n",
       "3                                                NaN   \n",
       "4                                                NaN   \n",
       "\n",
       "                                        Hit Sentence              Source  \\\n",
       "0  Kia and Hyundai Recalled Cars: वाहन निर्माता क...          Pardaphash   \n",
       "1  ... Punch EV is expected to compete with the M...  The Economic Times   \n",
       "2  ... , despite most carmakers focusing on large...           Badi Soch   \n",
       "3  Engine Fire-Related Risks Force Kia & Hyundai ...             Twitter   \n",
       "4  @srinualavilli @BMTC_BENGALURU Mahindra, Tata,...             Twitter   \n",
       "\n",
       "         Influencer Country Subregion Language       Reach  Desktop Reach  \\\n",
       "0               NaN   India     Delhi    Hindi     31307.0         1279.0   \n",
       "1               NaN   India  National  English  15403059.0      6171732.0   \n",
       "2               NaN   India       NaN  English   1128280.0       171549.0   \n",
       "3  @automobilindia8   India       NaN  English         2.0            NaN   \n",
       "4        @MalakpetD   India       NaN  English       506.0            NaN   \n",
       "\n",
       "   Mobile Reach  Twitter Social Echo  Facebook Social Echo  \\\n",
       "0       30028.0                  0.0                   0.0   \n",
       "1     9231327.0                  0.0                   0.0   \n",
       "2      956731.0                  0.0                   0.0   \n",
       "3           NaN                  NaN                   NaN   \n",
       "4           NaN                  NaN                   NaN   \n",
       "\n",
       "   Reddit Social Echo  National Viewership  Engagement Sentiment  \\\n",
       "0                 0.0                    0         NaN   Neutral   \n",
       "1                 0.0                    0         NaN   Neutral   \n",
       "2                 0.0                    0         NaN   Neutral   \n",
       "3                 NaN                    0         0.0   Neutral   \n",
       "4                 NaN                    0         0.0   Neutral   \n",
       "\n",
       "               Keywords        State  \n",
       "0          Hyundai,Cars        Delhi  \n",
       "1             Tata,cars  Maharashtra  \n",
       "2             cars,Tata          NaN  \n",
       "3  Hyundai,Cars,hyundai    Karnataka  \n",
       "4             Tata,cars    Telangana  "
      ]
     },
     "execution_count": 1153,
     "metadata": {},
     "output_type": "execute_result"
    }
   ],
   "source": [
    "df.head()"
   ]
  },
  {
   "cell_type": "code",
   "execution_count": 1154,
   "metadata": {},
   "outputs": [
    {
     "data": {
      "text/plain": [
       "Date                                                  28-Sep-2023 02:08PM\n",
       "Headline                Kia और Hyundai ने वापस बुलाईं अपनी 35 लाख कारे...\n",
       "URL                     https://hindi.pardaphash.com/kia-and-hyundai-r...\n",
       "Opening Text            Kia and Hyundai Recalled Cars: वाहन निर्माता क...\n",
       "Hit Sentence            Kia and Hyundai Recalled Cars: वाहन निर्माता क...\n",
       "Source                                                         Pardaphash\n",
       "Influencer                                                            NaN\n",
       "Country                                                             India\n",
       "Subregion                                                           Delhi\n",
       "Language                                                            Hindi\n",
       "Reach                                                             31307.0\n",
       "Desktop Reach                                                      1279.0\n",
       "Mobile Reach                                                      30028.0\n",
       "Twitter Social Echo                                                   0.0\n",
       "Facebook Social Echo                                                  0.0\n",
       "Reddit Social Echo                                                    0.0\n",
       "National Viewership                                                     0\n",
       "Engagement                                                            NaN\n",
       "Sentiment                                                         Neutral\n",
       "Keywords                                                     Hyundai,Cars\n",
       "State                                                               Delhi\n",
       "Name: 0, dtype: object"
      ]
     },
     "execution_count": 1154,
     "metadata": {},
     "output_type": "execute_result"
    }
   ],
   "source": [
    "df.iloc[0]"
   ]
  },
  {
   "cell_type": "code",
   "execution_count": 1155,
   "metadata": {},
   "outputs": [
    {
     "name": "stdout",
     "output_type": "stream",
     "text": [
      "<class 'pandas.core.frame.DataFrame'>\n",
      "RangeIndex: 1528 entries, 0 to 1527\n",
      "Data columns (total 21 columns):\n",
      " #   Column                Non-Null Count  Dtype  \n",
      "---  ------                --------------  -----  \n",
      " 0   Date                  1528 non-null   object \n",
      " 1   Headline              710 non-null    object \n",
      " 2   URL                   1528 non-null   object \n",
      " 3   Opening Text          710 non-null    object \n",
      " 4   Hit Sentence          1528 non-null   object \n",
      " 5   Source                1528 non-null   object \n",
      " 6   Influencer            1065 non-null   object \n",
      " 7   Country               1528 non-null   object \n",
      " 8   Subregion             321 non-null    object \n",
      " 9   Language              1528 non-null   object \n",
      " 10  Reach                 1519 non-null   float64\n",
      " 11  Desktop Reach         710 non-null    float64\n",
      " 12  Mobile Reach          710 non-null    float64\n",
      " 13  Twitter Social Echo   710 non-null    float64\n",
      " 14  Facebook Social Echo  710 non-null    float64\n",
      " 15  Reddit Social Echo    710 non-null    float64\n",
      " 16  National Viewership   1528 non-null   int64  \n",
      " 17  Engagement            352 non-null    float64\n",
      " 18  Sentiment             1528 non-null   object \n",
      " 19  Keywords              1528 non-null   object \n",
      " 20  State                 1028 non-null   object \n",
      "dtypes: float64(7), int64(1), object(13)\n",
      "memory usage: 250.8+ KB\n"
     ]
    }
   ],
   "source": [
    "df.info()"
   ]
  },
  {
   "cell_type": "code",
   "execution_count": 1156,
   "metadata": {},
   "outputs": [
    {
     "data": {
      "text/plain": [
       "Index(['Date', 'Headline', 'URL', 'Opening Text', 'Hit Sentence', 'Source',\n",
       "       'Influencer', 'Country', 'Subregion', 'Language', 'Reach',\n",
       "       'Desktop Reach', 'Mobile Reach', 'Twitter Social Echo',\n",
       "       'Facebook Social Echo', 'Reddit Social Echo', 'National Viewership',\n",
       "       'Engagement', 'Sentiment', 'Keywords', 'State'],\n",
       "      dtype='object')"
      ]
     },
     "execution_count": 1156,
     "metadata": {},
     "output_type": "execute_result"
    }
   ],
   "source": [
    "df.columns"
   ]
  },
  {
   "cell_type": "code",
   "execution_count": 1157,
   "metadata": {},
   "outputs": [
    {
     "name": "stdout",
     "output_type": "stream",
     "text": [
      "categorical_cols: Index(['Date', 'Headline', 'URL', 'Opening Text', 'Hit Sentence', 'Source',\n",
      "       'Influencer', 'Country', 'Subregion', 'Language', 'Sentiment',\n",
      "       'Keywords', 'State'],\n",
      "      dtype='object')\n",
      "numeric_cols: Index(['Reach', 'Desktop Reach', 'Mobile Reach', 'Twitter Social Echo',\n",
      "       'Facebook Social Echo', 'Reddit Social Echo', 'National Viewership',\n",
      "       'Engagement'],\n",
      "      dtype='object')\n"
     ]
    }
   ],
   "source": [
    "categorical_cols = df.select_dtypes('object').columns\n",
    "numeric_cols = df.select_dtypes(include=np.number).columns\n",
    "\n",
    "print('categorical_cols:', categorical_cols)\n",
    "print('numeric_cols:', numeric_cols)"
   ]
  },
  {
   "cell_type": "code",
   "execution_count": 1158,
   "metadata": {},
   "outputs": [],
   "source": [
    "# Value counts for categorical columns\n",
    "def val_count(dataframe, column):\n",
    "    return dataframe[column].value_counts()"
   ]
  },
  {
   "cell_type": "code",
   "execution_count": 1159,
   "metadata": {},
   "outputs": [
    {
     "data": {
      "text/plain": [
       "Twitter                818\n",
       "India Posts English     89\n",
       "The Times of India      32\n",
       "Cartoq                  21\n",
       "Todays Chronic          14\n",
       "                      ... \n",
       "TechCodex                1\n",
       "Prameyanews              1\n",
       "Orissa Diary             1\n",
       "ODISHABARTA.COM          1\n",
       "NFAPost                  1\n",
       "Name: Source, Length: 230, dtype: int64"
      ]
     },
     "execution_count": 1159,
     "metadata": {},
     "output_type": "execute_result"
    }
   ],
   "source": [
    "val_count(df,'Source')"
   ]
  },
  {
   "cell_type": "code",
   "execution_count": 1160,
   "metadata": {},
   "outputs": [
    {
     "name": "stdout",
     "output_type": "stream",
     "text": [
      "India    1528\n",
      "Name: Country, dtype: int64\n"
     ]
    }
   ],
   "source": [
    "print(val_count(df,'Country'))\n",
    "\n",
    "# Will delete this column as the only country in the dataset is India\n",
    "df.drop(columns='Country', inplace=True)"
   ]
  },
  {
   "cell_type": "markdown",
   "metadata": {},
   "source": [
    "--------------------------------------------------------------------------------------------------------------------------------------------------------"
   ]
  },
  {
   "cell_type": "code",
   "execution_count": 1161,
   "metadata": {},
   "outputs": [
    {
     "data": {
      "text/plain": [
       "Mumbai            87\n",
       "Uttar Pradesh     75\n",
       "Delhi             52\n",
       "Madhya Pradesh    21\n",
       "National          18\n",
       "Maharashtra       14\n",
       "West Bengal       10\n",
       "Haryana            8\n",
       "Kerala             7\n",
       "Karnataka          5\n",
       "Rajasthan          4\n",
       "Orissa             4\n",
       "Chennai            4\n",
       "Gujarat            3\n",
       "J&K                2\n",
       "Punjab             2\n",
       "Jharkhand          1\n",
       "Chattisgarh        1\n",
       "Kolkata            1\n",
       "Uttrakhand         1\n",
       "Bangalore          1\n",
       "Name: Subregion, dtype: int64"
      ]
     },
     "execution_count": 1161,
     "metadata": {},
     "output_type": "execute_result"
    }
   ],
   "source": [
    "val_count(df,'Subregion')"
   ]
  },
  {
   "cell_type": "code",
   "execution_count": 1162,
   "metadata": {},
   "outputs": [
    {
     "data": {
      "text/plain": [
       "Tamil Nadu           264\n",
       "Maharashtra          218\n",
       "Delhi                 96\n",
       "Uttar Pradesh         95\n",
       "Karnataka             71\n",
       "Kerala                43\n",
       "Gujarat               35\n",
       "Telangana             33\n",
       "Madhya Pradesh        28\n",
       "Rajasthan             25\n",
       "West Bengal           21\n",
       "Haryana               21\n",
       "Puducherry            13\n",
       "Odisha                11\n",
       "Andhra Pradesh        10\n",
       "Chandigarh             9\n",
       "Jharkhand              8\n",
       "Punjab                 5\n",
       "Bihar                  5\n",
       "Jammu and Kashmir      4\n",
       "Chhattisgarh           4\n",
       "Assam                  2\n",
       "Uttarakhand            2\n",
       "Arunachal Pradesh      1\n",
       "Tripura                1\n",
       "Goa                    1\n",
       "Mizoram                1\n",
       "Himachal Pradesh       1\n",
       "Name: State, dtype: int64"
      ]
     },
     "execution_count": 1162,
     "metadata": {},
     "output_type": "execute_result"
    }
   ],
   "source": [
    "val_count(df,'State')"
   ]
  },
  {
   "cell_type": "code",
   "execution_count": 1163,
   "metadata": {},
   "outputs": [
    {
     "name": "stdout",
     "output_type": "stream",
     "text": [
      "State Column null values (count): 500\n",
      "Subregion Column null values (count): 1207\n",
      "New Count State: 497\n",
      "New Count Subregion: 497\n"
     ]
    }
   ],
   "source": [
    "''' The variables state and subregion are supposed to contain specific & seperate type of data but if we look closely then most of these values in both of\n",
    "these columns contain information related to the state from where the source is from, so lets fill all the null values in these two columns by \n",
    "refering them to each other'''\n",
    "\n",
    "print('State Column null values (count):',df['State'].isna().sum())\n",
    "print('Subregion Column null values (count):',df['Subregion'].isna().sum())\n",
    "\n",
    "df['Subregion']=df['Subregion'].fillna(df['State'])\n",
    "df['State']=df['State'].fillna(df['Subregion'])\n",
    "\n",
    "print('New Count State:', df['State'].isna().sum())\n",
    "print('New Count Subregion:', df['Subregion'].isna().sum())"
   ]
  },
  {
   "cell_type": "code",
   "execution_count": 1164,
   "metadata": {},
   "outputs": [
    {
     "data": {
      "text/plain": [
       "Tamil Nadu           248\n",
       "Maharashtra          125\n",
       "Delhi                102\n",
       "Uttar Pradesh         95\n",
       "Mumbai                87\n",
       "Karnataka             69\n",
       "Kerala                43\n",
       "Gujarat               34\n",
       "Telangana             33\n",
       "Madhya Pradesh        28\n",
       "Rajasthan             24\n",
       "Haryana               21\n",
       "West Bengal           20\n",
       "National              18\n",
       "Puducherry            13\n",
       "Andhra Pradesh        10\n",
       "Chandigarh             9\n",
       "Jharkhand              8\n",
       "Odisha                 7\n",
       "Punjab                 5\n",
       "Bihar                  5\n",
       "Orissa                 4\n",
       "Chennai                4\n",
       "Chhattisgarh           3\n",
       "Assam                  2\n",
       "Jammu and Kashmir      2\n",
       "J&K                    2\n",
       "Arunachal Pradesh      1\n",
       "Uttrakhand             1\n",
       "Uttarakhand            1\n",
       "Tripura                1\n",
       "Goa                    1\n",
       "Chattisgarh            1\n",
       "Mizoram                1\n",
       "Himachal Pradesh       1\n",
       "Kolkata                1\n",
       "Bangalore              1\n",
       "Name: Subregion, dtype: int64"
      ]
     },
     "execution_count": 1164,
     "metadata": {},
     "output_type": "execute_result"
    }
   ],
   "source": [
    "val_count(df,'Subregion')"
   ]
  },
  {
   "cell_type": "code",
   "execution_count": 1165,
   "metadata": {},
   "outputs": [
    {
     "data": {
      "text/plain": [
       "Tamil Nadu           264\n",
       "Maharashtra          218\n",
       "Delhi                 96\n",
       "Uttar Pradesh         95\n",
       "Karnataka             71\n",
       "Kerala                43\n",
       "Gujarat               35\n",
       "Telangana             33\n",
       "Madhya Pradesh        28\n",
       "Rajasthan             25\n",
       "West Bengal           21\n",
       "Haryana               21\n",
       "Puducherry            13\n",
       "Odisha                11\n",
       "Andhra Pradesh        10\n",
       "Chandigarh             9\n",
       "Jharkhand              8\n",
       "Punjab                 5\n",
       "Bihar                  5\n",
       "Jammu and Kashmir      4\n",
       "Chhattisgarh           4\n",
       "National               3\n",
       "Assam                  2\n",
       "Uttarakhand            2\n",
       "Arunachal Pradesh      1\n",
       "Tripura                1\n",
       "Goa                    1\n",
       "Mizoram                1\n",
       "Himachal Pradesh       1\n",
       "Name: State, dtype: int64"
      ]
     },
     "execution_count": 1165,
     "metadata": {},
     "output_type": "execute_result"
    }
   ],
   "source": [
    "val_count(df,'State')"
   ]
  },
  {
   "cell_type": "code",
   "execution_count": 1166,
   "metadata": {},
   "outputs": [],
   "source": [
    "# The most ideal thing to do will be to remove the sub region column\n",
    "df.drop(columns='Subregion', inplace=True)"
   ]
  },
  {
   "cell_type": "markdown",
   "metadata": {},
   "source": [
    "--------------------------------------------------------------------------------------------------------------------------------------------------------"
   ]
  },
  {
   "cell_type": "code",
   "execution_count": 1167,
   "metadata": {},
   "outputs": [
    {
     "data": {
      "text/plain": [
       "English    1507\n",
       "Hindi        14\n",
       "Bengali       6\n",
       "Marathi       1\n",
       "Name: Language, dtype: int64"
      ]
     },
     "execution_count": 1167,
     "metadata": {},
     "output_type": "execute_result"
    }
   ],
   "source": [
    "val_count(df, 'Language')"
   ]
  },
  {
   "cell_type": "code",
   "execution_count": 1168,
   "metadata": {},
   "outputs": [
    {
     "data": {
      "text/plain": [
       "Neutral     850\n",
       "Positive    420\n",
       "Negative    258\n",
       "Name: Sentiment, dtype: int64"
      ]
     },
     "execution_count": 1168,
     "metadata": {},
     "output_type": "execute_result"
    }
   ],
   "source": [
    "val_count(df,'Sentiment')"
   ]
  },
  {
   "cell_type": "markdown",
   "metadata": {},
   "source": [
    "--------------------------------------------------------------------------------------------------------------------------------------------------------"
   ]
  },
  {
   "cell_type": "code",
   "execution_count": 1169,
   "metadata": {},
   "outputs": [
    {
     "data": {
      "text/plain": [
       "cars,Tata                 270\n",
       "Cars,Tata                 267\n",
       "Hyundai,cars              255\n",
       "Tata,cars                 242\n",
       "cars,Hyundai              152\n",
       "                         ... \n",
       "Hyundai,cars,Tata,Cars      1\n",
       "cars,Tata,TATA,Hyundai      1\n",
       "cars,Hyundai,Cars,Tata      1\n",
       "Hyundai,Cars,hyundai        1\n",
       "Cars,Tata,cars,Hyundai      1\n",
       "Name: Keywords, Length: 65, dtype: int64"
      ]
     },
     "execution_count": 1169,
     "metadata": {},
     "output_type": "execute_result"
    }
   ],
   "source": [
    "val_count(df,'Keywords')"
   ]
  },
  {
   "cell_type": "code",
   "execution_count": 1170,
   "metadata": {},
   "outputs": [
    {
     "data": {
      "text/plain": [
       "array(['Hyundai,Cars', 'Tata,cars', 'cars,Tata', 'Hyundai,Cars,hyundai',\n",
       "       'Hyundai,cars', 'cars,Hyundai', 'Cars,Tata', 'CARS,Hyundai',\n",
       "       'Hyundai,cars,Cars', 'cars,Tata,Hyundai', 'Cars,Hyundai,Tata',\n",
       "       'tata,cars', 'Cars,Tata,Hyundai', 'cars,tata', 'Tata,Cars,tata',\n",
       "       'Cars,cars,Tata', 'TATA,Cars', 'Tata,Cars', 'Cars,Hyundai',\n",
       "       'TATA,cars', 'cars,Hyundai,Cars', 'hyundai,cars',\n",
       "       'cars,Hyundai,Cars,Tata', 'Tata,cars,Hyundai', 'TATA,CARS',\n",
       "       'cars,Hyundai,Tata', 'Tata,cars,Cars', 'cars,Tata,TATA,Hyundai',\n",
       "       'cars,TATA', 'Hyundai,cars,Tata,Cars', 'CARS,Hyundai,cars',\n",
       "       'tata,Tata,cars', 'Tata,Cars,tata,cars', 'Hyundai,Cars,cars',\n",
       "       'cars,hyundai,tata', 'Hyundai,cars,Tata', 'Hyundai,Tata,cars',\n",
       "       'Cars,cars,Tata,tata', 'Tata,Cars,cars', 'cars,Tata,tata',\n",
       "       'Hyundai,cars,hyundai', 'cars,hyundai', 'cars,Cars,Tata',\n",
       "       'cars,Hyundai,tata', 'cars,Tata,Hyundai,Cars', 'Cars,HYUNDAI',\n",
       "       'Tata,tata,cars', 'cars,Tata,Cars', 'cars,TATA,Tata',\n",
       "       'Tata,Cars,hyundai', 'Tata,cars,Hyundai,Cars', 'Hyundai,TATA,cars',\n",
       "       'Tata,cars,tata', 'TATA,cars,Tata', 'cars,tata,TATA',\n",
       "       'Tata,Hyundai,cars', 'cars,Hyundai,TATA', 'hyundai,cars,Hyundai',\n",
       "       'Tata,CARS,cars', 'TATA,tata,cars', 'Tata,cars,TATA', 'Cars,TATA',\n",
       "       'Tata,Cars,Hyundai,cars', 'cars,Hyundai,HYUNDAI,CARS',\n",
       "       'Cars,Tata,cars,Hyundai'], dtype=object)"
      ]
     },
     "execution_count": 1170,
     "metadata": {},
     "output_type": "execute_result"
    }
   ],
   "source": [
    "df['Keywords'].unique()"
   ]
  },
  {
   "cell_type": "code",
   "execution_count": 1171,
   "metadata": {},
   "outputs": [
    {
     "data": {
      "text/plain": [
       "array(['hyundai,cars', 'tata,cars', 'cars,tata', 'hyundai,cars,hyundai',\n",
       "       'cars,hyundai', 'hyundai,cars,cars', 'cars,tata,hyundai',\n",
       "       'cars,hyundai,tata', 'tata,cars,tata', 'cars,cars,tata',\n",
       "       'cars,hyundai,cars', 'cars,hyundai,cars,tata', 'tata,cars,hyundai',\n",
       "       'tata,cars,cars', 'cars,tata,tata,hyundai',\n",
       "       'hyundai,cars,tata,cars', 'tata,tata,cars', 'tata,cars,tata,cars',\n",
       "       'hyundai,cars,tata', 'hyundai,tata,cars', 'cars,cars,tata,tata',\n",
       "       'cars,tata,tata', 'cars,tata,hyundai,cars', 'cars,tata,cars',\n",
       "       'tata,cars,hyundai,cars', 'tata,hyundai,cars',\n",
       "       'cars,hyundai,hyundai,cars', 'cars,tata,cars,hyundai'],\n",
       "      dtype=object)"
      ]
     },
     "execution_count": 1171,
     "metadata": {},
     "output_type": "execute_result"
    }
   ],
   "source": [
    "df['Keywords']=df['Keywords'].str.lower()\n",
    "df['Keywords'].unique()"
   ]
  },
  {
   "cell_type": "code",
   "execution_count": 1172,
   "metadata": {},
   "outputs": [],
   "source": [
    "# To reduce the data redundancy, I will set 3 categories tata, hyundai, tata_hyundai\n",
    "\n",
    "brand_keywords = {\n",
    "    'hyundai,cars':'hyundai', 'tata,cars':'tata', 'cars,tata':'tata', 'hyundai,cars,hyundai':'hyundai',\n",
    "       'cars,hyundai':'hyundai', 'hyundai,cars,cars':'hyundai', 'cars,tata,hyundai':'tata_hyundai',\n",
    "       'cars,hyundai,tata':'tata_hyundai', 'tata,cars,tata':'tata', 'cars,cars,tata':'tata',\n",
    "       'cars,hyundai,cars':'hyundai', 'cars,hyundai,cars,tata':'tata_hyundai', 'tata,cars,hyundai':'tata_hyundai',\n",
    "       'tata,cars,cars':'tata', 'cars,tata,tata,hyundai':'tata_hyundai',\n",
    "       'hyundai,cars,tata,cars':'tata_hyundai', 'tata,tata,cars':'tata', 'tata,cars,tata,cars':'tata',\n",
    "       'hyundai,cars,tata':'tata_hyundai', 'hyundai,tata,cars':'tata_hyundai', 'cars,cars,tata,tata':'tata',\n",
    "       'cars,tata,tata':'tata', 'cars,tata,hyundai,cars':'tata_hyundai', 'cars,tata,cars':'tata',\n",
    "       'tata,cars,hyundai,cars':'tata_hyundai', 'tata,hyundai,cars':'tata_hyundai',\n",
    "       'cars,hyundai,hyundai,cars':'hyundai', 'cars,tata,cars,hyundai':'tata_hyundai'\n",
    "}\n",
    "\n",
    "df['Keywords']=df['Keywords'].map(brand_keywords)"
   ]
  },
  {
   "cell_type": "code",
   "execution_count": 1173,
   "metadata": {},
   "outputs": [
    {
     "data": {
      "text/plain": [
       "tata            984\n",
       "hyundai         477\n",
       "tata_hyundai     67\n",
       "Name: Keywords, dtype: int64"
      ]
     },
     "execution_count": 1173,
     "metadata": {},
     "output_type": "execute_result"
    }
   ],
   "source": [
    "df['Keywords'].value_counts()"
   ]
  },
  {
   "cell_type": "markdown",
   "metadata": {},
   "source": [
    "--------------------------------------------------------------------------------------------------------------------------------------------------------"
   ]
  },
  {
   "cell_type": "code",
   "execution_count": 1174,
   "metadata": {},
   "outputs": [
    {
     "data": {
      "text/plain": [
       "Date                       0\n",
       "Headline                 818\n",
       "URL                        0\n",
       "Opening Text             818\n",
       "Hit Sentence               0\n",
       "Source                     0\n",
       "Influencer               463\n",
       "Language                   0\n",
       "Reach                      9\n",
       "Desktop Reach            818\n",
       "Mobile Reach             818\n",
       "Twitter Social Echo      818\n",
       "Facebook Social Echo     818\n",
       "Reddit Social Echo       818\n",
       "National Viewership        0\n",
       "Engagement              1176\n",
       "Sentiment                  0\n",
       "Keywords                   0\n",
       "State                    497\n",
       "dtype: int64"
      ]
     },
     "execution_count": 1174,
     "metadata": {},
     "output_type": "execute_result"
    }
   ],
   "source": [
    "df.isna().sum()"
   ]
  },
  {
   "cell_type": "code",
   "execution_count": 1175,
   "metadata": {},
   "outputs": [
    {
     "name": "stdout",
     "output_type": "stream",
     "text": [
      "0    1528\n",
      "Name: National Viewership, dtype: int64\n"
     ]
    }
   ],
   "source": [
    "print(df['National Viewership'].value_counts())\n",
    "# Need to remove this variable \n",
    "df.drop(columns='National Viewership', inplace=True)"
   ]
  },
  {
   "cell_type": "code",
   "execution_count": 1176,
   "metadata": {},
   "outputs": [],
   "source": [
    "df['Reach'].isna().sum() # It will make sense to remove these rows as there will not be much data loss\n",
    "\n",
    "df.dropna(subset='Reach', inplace=True)"
   ]
  },
  {
   "cell_type": "code",
   "execution_count": 1177,
   "metadata": {},
   "outputs": [],
   "source": [
    "# Will remove all the unnecessary columns with high null values\n",
    "df.drop(columns=['Desktop Reach', 'Mobile Reach', 'Twitter Social Echo', 'Reddit Social Echo', 'Facebook Social Echo', 'Opening Text', 'Headline'], inplace=True)"
   ]
  },
  {
   "cell_type": "code",
   "execution_count": 1178,
   "metadata": {},
   "outputs": [
    {
     "data": {
      "text/plain": [
       "Date               0\n",
       "URL                0\n",
       "Hit Sentence       0\n",
       "Source             0\n",
       "Influencer       463\n",
       "Language           0\n",
       "Reach              0\n",
       "Engagement      1170\n",
       "Sentiment          0\n",
       "Keywords           0\n",
       "State            494\n",
       "dtype: int64"
      ]
     },
     "execution_count": 1178,
     "metadata": {},
     "output_type": "execute_result"
    }
   ],
   "source": [
    "df.isna().sum()"
   ]
  },
  {
   "cell_type": "code",
   "execution_count": 1179,
   "metadata": {},
   "outputs": [
    {
     "name": "stdout",
     "output_type": "stream",
     "text": [
      "@jayeshkhunt20      21\n",
      "@CSAlsundkar        20\n",
      "@MaheshKhokle       18\n",
      "@mr_singh1888       13\n",
      "Utkarsh Deshmukh    12\n",
      "                    ..\n",
      "@_autocrat           1\n",
      "@jayanth_s_iyer      1\n",
      "@thoughtsofSuraJ     1\n",
      "@mstock_in           1\n",
      "@poojashah0998       1\n",
      "Name: Influencer, Length: 761, dtype: int64\n"
     ]
    }
   ],
   "source": [
    "print(df.Influencer.value_counts())\n",
    "# Looking at the value count of Influencer, we can remove this column as well.\n",
    "df.drop(columns='Influencer', inplace=True)"
   ]
  },
  {
   "cell_type": "markdown",
   "metadata": {},
   "source": [
    "------------------------------------------------------------------------------------------------------------------------------------------------------------"
   ]
  },
  {
   "cell_type": "code",
   "execution_count": 1180,
   "metadata": {},
   "outputs": [
    {
     "data": {
      "text/plain": [
       "' State column is important because it can provide a lot of insights. \\nTherefore we can assign the null values with the value count ratio of the rest of the data\\nThe data has a total of 1519 observations and the null vales are 494, it is better to impute \\nthe missing values with the column names on the basis of value count ratios of remaining values'"
      ]
     },
     "execution_count": 1180,
     "metadata": {},
     "output_type": "execute_result"
    }
   ],
   "source": [
    "df['State'].isna().sum()\n",
    "\n",
    "''' State column is important because it can provide a lot of insights. \n",
    "Therefore we can assign the null values with the value count ratio of the rest of the data\n",
    "The data has a total of 1519 observations and the null vales are 494, it is better to impute \n",
    "the missing values with the column names on the basis of value count ratios of remaining values'''"
   ]
  },
  {
   "cell_type": "code",
   "execution_count": 1181,
   "metadata": {},
   "outputs": [],
   "source": [
    "# Defining the population ratios\n",
    "population_ratios = {\n",
    "    \"Tamil Nadu\": 0.3255,\n",
    "    \"Maharashtra\": 0.2693,\n",
    "    \"Delhi\": 0.1188,\n",
    "    \"Uttar Pradesh\": 0.1176,\n",
    "    \"Karnataka\": 0.0879,\n",
    "    \"Kerala\": 0.0532,\n",
    "    \"Gujarat\": 0.0433,\n",
    "    \"Telangana\": 0.0396,\n",
    "    \"Madhya Pradesh\": 0.0347,\n",
    "    \"Rajasthan\": 0.0272,\n",
    "    \"West Bengal\": 0.0260,\n",
    "    \"Haryana\": 0.0260,\n",
    "    \"Puducherry\": 0.0149,\n",
    "    \"Odisha\": 0.0136,\n",
    "    \"Andhra Pradesh\": 0.0124,\n",
    "    \"Chandigarh\": 0.0111,\n",
    "    \"Jharkhand\": 0.0099,\n",
    "    \"Punjab\": 0.0062,\n",
    "    \"Bihar\": 0.0062,\n",
    "    \"Jammu and Kashmir\": 0.0049,\n",
    "    \"Chhattisgarh\": 0.0049,\n",
    "    \"National\": 0.0037,\n",
    "    \"Assam\": 0.0025,\n",
    "    \"Uttarakhand\": 0.0025,\n",
    "    \"Arunachal Pradesh\": 0.0012,\n",
    "    \"Tripura\": 0.0012,\n",
    "    \"Goa\": 0.0012,\n",
    "    \"Mizoram\": 0.0012,\n",
    "    \"Himachal Pradesh\": 0.0012\n",
    "}\n",
    "\n",
    "# Function to impute null values in \"state\" column based on ratios\n",
    "def impute_state(row):\n",
    "    if pd.isna(row[\"State\"]):\n",
    "        # Generate a random value based on the population ratios\n",
    "        state = random.choices(list(population_ratios.keys()), list(population_ratios.values()))[0]\n",
    "        return state\n",
    "    else:\n",
    "        return row[\"State\"]\n",
    "\n",
    "# Apply the impute_state function to fill null values in the \"state\" column\n",
    "df[\"State\"] = df.apply(impute_state, axis=1)"
   ]
  },
  {
   "cell_type": "markdown",
   "metadata": {},
   "source": [
    "------------------------------------------------------------------------------------------------------------------------------------------------------------"
   ]
  },
  {
   "cell_type": "code",
   "execution_count": 1189,
   "metadata": {},
   "outputs": [
    {
     "data": {
      "text/plain": [
       "Date               0\n",
       "URL                0\n",
       "Hit Sentence       0\n",
       "Source             0\n",
       "Language           0\n",
       "Reach              0\n",
       "Engagement      1170\n",
       "Sentiment          0\n",
       "Keywords           0\n",
       "State              0\n",
       "dtype: int64"
      ]
     },
     "execution_count": 1189,
     "metadata": {},
     "output_type": "execute_result"
    }
   ],
   "source": [
    "df.isna().sum()\n",
    "\n",
    "# Considered & explored the option to impute all missing values through regression, \n",
    "# but it is not the best approach as most of the values in the  \n",
    "# engagement column are null (1170)\n",
    "\n",
    "# Also making assumptions and imputing the missing values with a specific number or ratio might not be the best practices,\n",
    "# so the best option is to remove the column"
   ]
  },
  {
   "cell_type": "code",
   "execution_count": 1190,
   "metadata": {},
   "outputs": [],
   "source": [
    "df.drop(columns='Engagement', inplace=True)"
   ]
  },
  {
   "cell_type": "markdown",
   "metadata": {},
   "source": [
    "------------------------------------------------------------------------------------------------------------------------------------------------------------"
   ]
  },
  {
   "cell_type": "markdown",
   "metadata": {},
   "source": [
    "#### Feature Engineering - Creating sentiment column on the basis of Hit Sentence"
   ]
  },
  {
   "cell_type": "code",
   "execution_count": 1196,
   "metadata": {},
   "outputs": [
    {
     "data": {
      "text/html": [
       "<div>\n",
       "<style scoped>\n",
       "    .dataframe tbody tr th:only-of-type {\n",
       "        vertical-align: middle;\n",
       "    }\n",
       "\n",
       "    .dataframe tbody tr th {\n",
       "        vertical-align: top;\n",
       "    }\n",
       "\n",
       "    .dataframe thead th {\n",
       "        text-align: right;\n",
       "    }\n",
       "</style>\n",
       "<table border=\"1\" class=\"dataframe\">\n",
       "  <thead>\n",
       "    <tr style=\"text-align: right;\">\n",
       "      <th></th>\n",
       "      <th>Date</th>\n",
       "      <th>URL</th>\n",
       "      <th>Hit Sentence</th>\n",
       "      <th>Source</th>\n",
       "      <th>Language</th>\n",
       "      <th>Reach</th>\n",
       "      <th>Sentiment</th>\n",
       "      <th>Keywords</th>\n",
       "      <th>State</th>\n",
       "    </tr>\n",
       "  </thead>\n",
       "  <tbody>\n",
       "    <tr>\n",
       "      <th>0</th>\n",
       "      <td>28-Sep-2023 02:08PM</td>\n",
       "      <td>https://hindi.pardaphash.com/kia-and-hyundai-r...</td>\n",
       "      <td>kia and hyundai recalled cars: वाहन निर्माता क...</td>\n",
       "      <td>Pardaphash</td>\n",
       "      <td>Hindi</td>\n",
       "      <td>31307.0</td>\n",
       "      <td>Neutral</td>\n",
       "      <td>hyundai</td>\n",
       "      <td>Delhi</td>\n",
       "    </tr>\n",
       "    <tr>\n",
       "      <th>1</th>\n",
       "      <td>28-Sep-2023 01:46PM</td>\n",
       "      <td>https://economictimes.indiatimes.com/industry/...</td>\n",
       "      <td>... punch ev is expected to compete with the m...</td>\n",
       "      <td>The Economic Times</td>\n",
       "      <td>English</td>\n",
       "      <td>15403059.0</td>\n",
       "      <td>Neutral</td>\n",
       "      <td>tata</td>\n",
       "      <td>Maharashtra</td>\n",
       "    </tr>\n",
       "    <tr>\n",
       "      <th>2</th>\n",
       "      <td>28-Sep-2023 01:30PM</td>\n",
       "      <td>https://badisoch.in/automobile-news/tata-aviny...</td>\n",
       "      <td>... , despite most carmakers focusing on large...</td>\n",
       "      <td>Badi Soch</td>\n",
       "      <td>English</td>\n",
       "      <td>1128280.0</td>\n",
       "      <td>Neutral</td>\n",
       "      <td>tata</td>\n",
       "      <td>Karnataka</td>\n",
       "    </tr>\n",
       "    <tr>\n",
       "      <th>3</th>\n",
       "      <td>28-Sep-2023 01:24PM</td>\n",
       "      <td>http://twitter.com/automobilindia8/statuses/17...</td>\n",
       "      <td>engine fire-related risks force kia &amp; hyundai ...</td>\n",
       "      <td>Twitter</td>\n",
       "      <td>English</td>\n",
       "      <td>2.0</td>\n",
       "      <td>Neutral</td>\n",
       "      <td>hyundai</td>\n",
       "      <td>Karnataka</td>\n",
       "    </tr>\n",
       "    <tr>\n",
       "      <th>4</th>\n",
       "      <td>28-Sep-2023 01:22PM</td>\n",
       "      <td>http://twitter.com/MalakpetD/statuses/17073021...</td>\n",
       "      <td>@srinualavilli @bmtc_bengaluru mahindra, tata,...</td>\n",
       "      <td>Twitter</td>\n",
       "      <td>English</td>\n",
       "      <td>506.0</td>\n",
       "      <td>Neutral</td>\n",
       "      <td>tata</td>\n",
       "      <td>Telangana</td>\n",
       "    </tr>\n",
       "    <tr>\n",
       "      <th>...</th>\n",
       "      <td>...</td>\n",
       "      <td>...</td>\n",
       "      <td>...</td>\n",
       "      <td>...</td>\n",
       "      <td>...</td>\n",
       "      <td>...</td>\n",
       "      <td>...</td>\n",
       "      <td>...</td>\n",
       "      <td>...</td>\n",
       "    </tr>\n",
       "    <tr>\n",
       "      <th>1523</th>\n",
       "      <td>12-Sep-2023 06:20AM</td>\n",
       "      <td>https://bulletinreporter.com/mg3-hatchback-tak...</td>\n",
       "      <td>... costs survey, which lists the cost of runn...</td>\n",
       "      <td>Bulletin Reporter</td>\n",
       "      <td>English</td>\n",
       "      <td>2074.0</td>\n",
       "      <td>Positive</td>\n",
       "      <td>hyundai</td>\n",
       "      <td>Gujarat</td>\n",
       "    </tr>\n",
       "    <tr>\n",
       "      <th>1524</th>\n",
       "      <td>12-Sep-2023 05:24AM</td>\n",
       "      <td>https://vervetimes.com/mg3-hatchback-named-by-...</td>\n",
       "      <td>... costs survey, which lists the cost of runn...</td>\n",
       "      <td>Verve times - Latest News around the World</td>\n",
       "      <td>English</td>\n",
       "      <td>26425.0</td>\n",
       "      <td>Positive</td>\n",
       "      <td>hyundai</td>\n",
       "      <td>Maharashtra</td>\n",
       "    </tr>\n",
       "    <tr>\n",
       "      <th>1525</th>\n",
       "      <td>12-Sep-2023 04:37AM</td>\n",
       "      <td>https://newsconcerns.com/racv-names-mg3-hatchb...</td>\n",
       "      <td>... costs survey, which lists the cost of runn...</td>\n",
       "      <td>News Concerns - Latest News Update</td>\n",
       "      <td>English</td>\n",
       "      <td>9323.0</td>\n",
       "      <td>Positive</td>\n",
       "      <td>hyundai</td>\n",
       "      <td>Madhya Pradesh</td>\n",
       "    </tr>\n",
       "    <tr>\n",
       "      <th>1526</th>\n",
       "      <td>12-Sep-2023 04:04AM</td>\n",
       "      <td>https://thenfapost.com/tata-power-ez-app-elect...</td>\n",
       "      <td>charging hubs for leading cab fleet operators....</td>\n",
       "      <td>NFAPost</td>\n",
       "      <td>English</td>\n",
       "      <td>851.0</td>\n",
       "      <td>Neutral</td>\n",
       "      <td>tata</td>\n",
       "      <td>Karnataka</td>\n",
       "    </tr>\n",
       "    <tr>\n",
       "      <th>1527</th>\n",
       "      <td>12-Sep-2023 02:44AM</td>\n",
       "      <td>http://twitter.com/poojashah0998/statuses/1701...</td>\n",
       "      <td>rt @shamsnaqvi: one of the most awaited cars t...</td>\n",
       "      <td>Twitter</td>\n",
       "      <td>English</td>\n",
       "      <td>45.0</td>\n",
       "      <td>Positive</td>\n",
       "      <td>tata</td>\n",
       "      <td>Maharashtra</td>\n",
       "    </tr>\n",
       "  </tbody>\n",
       "</table>\n",
       "<p>1519 rows × 9 columns</p>\n",
       "</div>"
      ],
      "text/plain": [
       "                     Date                                                URL  \\\n",
       "0     28-Sep-2023 02:08PM  https://hindi.pardaphash.com/kia-and-hyundai-r...   \n",
       "1     28-Sep-2023 01:46PM  https://economictimes.indiatimes.com/industry/...   \n",
       "2     28-Sep-2023 01:30PM  https://badisoch.in/automobile-news/tata-aviny...   \n",
       "3     28-Sep-2023 01:24PM  http://twitter.com/automobilindia8/statuses/17...   \n",
       "4     28-Sep-2023 01:22PM  http://twitter.com/MalakpetD/statuses/17073021...   \n",
       "...                   ...                                                ...   \n",
       "1523  12-Sep-2023 06:20AM  https://bulletinreporter.com/mg3-hatchback-tak...   \n",
       "1524  12-Sep-2023 05:24AM  https://vervetimes.com/mg3-hatchback-named-by-...   \n",
       "1525  12-Sep-2023 04:37AM  https://newsconcerns.com/racv-names-mg3-hatchb...   \n",
       "1526  12-Sep-2023 04:04AM  https://thenfapost.com/tata-power-ez-app-elect...   \n",
       "1527  12-Sep-2023 02:44AM  http://twitter.com/poojashah0998/statuses/1701...   \n",
       "\n",
       "                                           Hit Sentence  \\\n",
       "0     kia and hyundai recalled cars: वाहन निर्माता क...   \n",
       "1     ... punch ev is expected to compete with the m...   \n",
       "2     ... , despite most carmakers focusing on large...   \n",
       "3     engine fire-related risks force kia & hyundai ...   \n",
       "4     @srinualavilli @bmtc_bengaluru mahindra, tata,...   \n",
       "...                                                 ...   \n",
       "1523  ... costs survey, which lists the cost of runn...   \n",
       "1524  ... costs survey, which lists the cost of runn...   \n",
       "1525  ... costs survey, which lists the cost of runn...   \n",
       "1526  charging hubs for leading cab fleet operators....   \n",
       "1527  rt @shamsnaqvi: one of the most awaited cars t...   \n",
       "\n",
       "                                          Source Language       Reach  \\\n",
       "0                                     Pardaphash    Hindi     31307.0   \n",
       "1                             The Economic Times  English  15403059.0   \n",
       "2                                      Badi Soch  English   1128280.0   \n",
       "3                                        Twitter  English         2.0   \n",
       "4                                        Twitter  English       506.0   \n",
       "...                                          ...      ...         ...   \n",
       "1523                           Bulletin Reporter  English      2074.0   \n",
       "1524  Verve times - Latest News around the World  English     26425.0   \n",
       "1525          News Concerns - Latest News Update  English      9323.0   \n",
       "1526                                     NFAPost  English       851.0   \n",
       "1527                                     Twitter  English        45.0   \n",
       "\n",
       "     Sentiment Keywords           State  \n",
       "0      Neutral  hyundai           Delhi  \n",
       "1      Neutral     tata     Maharashtra  \n",
       "2      Neutral     tata       Karnataka  \n",
       "3      Neutral  hyundai       Karnataka  \n",
       "4      Neutral     tata       Telangana  \n",
       "...        ...      ...             ...  \n",
       "1523  Positive  hyundai         Gujarat  \n",
       "1524  Positive  hyundai     Maharashtra  \n",
       "1525  Positive  hyundai  Madhya Pradesh  \n",
       "1526   Neutral     tata       Karnataka  \n",
       "1527  Positive     tata     Maharashtra  \n",
       "\n",
       "[1519 rows x 9 columns]"
      ]
     },
     "execution_count": 1196,
     "metadata": {},
     "output_type": "execute_result"
    }
   ],
   "source": [
    "# Converting Hit Scentence to lower case\n",
    "df['Hit Sentence']=df['Hit Sentence'].str.lower()\n",
    "\n",
    "df"
   ]
  },
  {
   "cell_type": "code",
   "execution_count": null,
   "metadata": {},
   "outputs": [],
   "source": []
  }
 ],
 "metadata": {
  "kernelspec": {
   "display_name": "Python 3",
   "language": "python",
   "name": "python3"
  },
  "language_info": {
   "codemirror_mode": {
    "name": "ipython",
    "version": 3
   },
   "file_extension": ".py",
   "mimetype": "text/x-python",
   "name": "python",
   "nbconvert_exporter": "python",
   "pygments_lexer": "ipython3",
   "version": "3.9.12"
  }
 },
 "nbformat": 4,
 "nbformat_minor": 2
}
