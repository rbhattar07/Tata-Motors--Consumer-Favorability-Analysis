{
 "cells": [
  {
   "cell_type": "code",
   "execution_count": 317,
   "metadata": {},
   "outputs": [],
   "source": [
    "import random\n",
    "import numpy as np \n",
    "import pandas as pd\n",
    "\n",
    "import matplotlib\n",
    "import matplotlib.pyplot as plt \n",
    "import seaborn as sns\n",
    "import plotly.express as px \n",
    "%matplotlib inline\n",
    "\n",
    "sns.set_style('darkgrid')\n",
    "matplotlib.rcParams['font.size'] = 14\n",
    "matplotlib.rcParams['figure.figsize'] = (10, 6)\n",
    "matplotlib.rcParams['figure.facecolor'] = '#00000000'\n",
    "\n",
    "pd.set_option('display.max_columns', 25)\n",
    "pd.set_option('display.max_rows', 25)"
   ]
  },
  {
   "cell_type": "code",
   "execution_count": 318,
   "metadata": {},
   "outputs": [
    {
     "name": "stdout",
     "output_type": "stream",
     "text": [
      "<class 'pandas.core.frame.DataFrame'>\n",
      "RangeIndex: 1528 entries, 0 to 1527\n",
      "Data columns (total 21 columns):\n",
      " #   Column                Non-Null Count  Dtype  \n",
      "---  ------                --------------  -----  \n",
      " 0   Date                  1528 non-null   object \n",
      " 1   Headline              710 non-null    object \n",
      " 2   URL                   1528 non-null   object \n",
      " 3   Opening Text          710 non-null    object \n",
      " 4   Hit Sentence          1528 non-null   object \n",
      " 5   Source                1528 non-null   object \n",
      " 6   Influencer            1065 non-null   object \n",
      " 7   Country               1528 non-null   object \n",
      " 8   Subregion             321 non-null    object \n",
      " 9   Language              1528 non-null   object \n",
      " 10  Reach                 1519 non-null   float64\n",
      " 11  Desktop Reach         710 non-null    float64\n",
      " 12  Mobile Reach          710 non-null    float64\n",
      " 13  Twitter Social Echo   710 non-null    float64\n",
      " 14  Facebook Social Echo  710 non-null    float64\n",
      " 15  Reddit Social Echo    710 non-null    float64\n",
      " 16  National Viewership   1528 non-null   int64  \n",
      " 17  Engagement            352 non-null    float64\n",
      " 18  Sentiment             1528 non-null   object \n",
      " 19  Keywords              1528 non-null   object \n",
      " 20  State                 1028 non-null   object \n",
      "dtypes: float64(7), int64(1), object(13)\n",
      "memory usage: 250.8+ KB\n"
     ]
    }
   ],
   "source": [
    "main_df = pd.read_csv(r\"C:\\Users\\14708\\Downloads\\Tata and Hyundai cars - data.xlsx - Data.csv\")\n",
    "df = main_df.copy()\n",
    "df.info()"
   ]
  },
  {
   "cell_type": "code",
   "execution_count": 319,
   "metadata": {},
   "outputs": [
    {
     "data": {
      "text/plain": [
       "Date                       0\n",
       "Headline                 818\n",
       "URL                        0\n",
       "Opening Text             818\n",
       "Hit Sentence               0\n",
       "Source                     0\n",
       "Influencer               463\n",
       "Country                    0\n",
       "Subregion               1207\n",
       "Language                   0\n",
       "Reach                      9\n",
       "Desktop Reach            818\n",
       "Mobile Reach             818\n",
       "Twitter Social Echo      818\n",
       "Facebook Social Echo     818\n",
       "Reddit Social Echo       818\n",
       "National Viewership        0\n",
       "Engagement              1176\n",
       "Sentiment                  0\n",
       "Keywords                   0\n",
       "State                    500\n",
       "dtype: int64"
      ]
     },
     "execution_count": 319,
     "metadata": {},
     "output_type": "execute_result"
    }
   ],
   "source": [
    "df.isna().sum()"
   ]
  },
  {
   "cell_type": "code",
   "execution_count": 320,
   "metadata": {},
   "outputs": [
    {
     "name": "stdout",
     "output_type": "stream",
     "text": [
      "Subregion: 1207\n",
      "State: 500\n"
     ]
    }
   ],
   "source": [
    "print('Subregion:',df['Subregion'].isna().sum())\n",
    "print('State:',df['State'].isna().sum())"
   ]
  },
  {
   "cell_type": "code",
   "execution_count": 321,
   "metadata": {},
   "outputs": [
    {
     "name": "stdout",
     "output_type": "stream",
     "text": [
      "State:  497\n",
      "Subregion:  497\n"
     ]
    }
   ],
   "source": [
    "''' Most of the values in Subregion are State names and with their high null value content, it is better to use Subregion \n",
    "    to fill any null values in the State column and then decompose the column'''\n",
    "print('State: ',df['State'].fillna(df['Subregion']).isna().sum())\n",
    "print('Subregion: ',df['Subregion'].fillna(df['State']).isna().sum())\n",
    "\n",
    "# it will be better to remove the subregion column \n",
    "df.drop(columns='Subregion', inplace=True)"
   ]
  },
  {
   "cell_type": "code",
   "execution_count": 322,
   "metadata": {},
   "outputs": [],
   "source": [
    "# The Reach column has only 9 null values so it's better to remove those 9 rows.\n",
    "df.dropna(subset='Reach', inplace=True)"
   ]
  },
  {
   "cell_type": "code",
   "execution_count": 323,
   "metadata": {},
   "outputs": [],
   "source": [
    "# It also makes no sense to keep the engagement column\n",
    "df.drop(columns=['Engagement'], inplace=True)"
   ]
  },
  {
   "cell_type": "code",
   "execution_count": 324,
   "metadata": {},
   "outputs": [],
   "source": [
    "# Renaming the Keyword column as Parameters\n",
    "df['label'] = df['Keywords']\n",
    "df.drop(columns='Keywords', inplace=True)"
   ]
  },
  {
   "cell_type": "code",
   "execution_count": 325,
   "metadata": {},
   "outputs": [
    {
     "name": "stdout",
     "output_type": "stream",
     "text": [
      "Twitter null values:\n"
     ]
    },
    {
     "data": {
      "text/plain": [
       "Date                      0\n",
       "Headline                809\n",
       "URL                       0\n",
       "Opening Text            809\n",
       "Hit Sentence              0\n",
       "Source                    0\n",
       "Influencer                0\n",
       "Country                   0\n",
       "Language                  0\n",
       "Reach                     0\n",
       "Desktop Reach           809\n",
       "Mobile Reach            809\n",
       "Twitter Social Echo     809\n",
       "Facebook Social Echo    809\n",
       "Reddit Social Echo      809\n",
       "National Viewership       0\n",
       "Sentiment                 0\n",
       "State                   126\n",
       "label                     0\n",
       "dtype: int64"
      ]
     },
     "execution_count": 325,
     "metadata": {},
     "output_type": "execute_result"
    }
   ],
   "source": [
    "''' On comparision it seems that some columns have high null values only because of the source twitter,\n",
    "    So it is better to have 2 different datasets to analyze the data without any data loss'''\n",
    "print('Twitter null values:')\n",
    "df[df['Source']=='Twitter'].isna().sum()"
   ]
  },
  {
   "cell_type": "code",
   "execution_count": 326,
   "metadata": {},
   "outputs": [
    {
     "name": "stdout",
     "output_type": "stream",
     "text": [
      "National Viewership:  0    1519\n",
      "Name: National Viewership, dtype: int64\n"
     ]
    }
   ],
   "source": [
    "print('National Viewership: ',df['National Viewership'].value_counts())\n",
    "# Again makes no sense to keep national viewership, so will remove this column too\n",
    "df.drop(columns='National Viewership', inplace=True)"
   ]
  },
  {
   "cell_type": "code",
   "execution_count": 327,
   "metadata": {},
   "outputs": [
    {
     "name": "stdout",
     "output_type": "stream",
     "text": [
      "12-Sep-2023 01:04PM\n",
      "28-Sep-2023 12:49PM\n"
     ]
    }
   ],
   "source": [
    "print(df['Date'].min()), print(df['Date'].max())  # Seems like all the posts are in Septemeber of 2023, thus will create day and hour column\n",
    "\n",
    "df['Date'] = pd.to_datetime(df['Date']) \n",
    "df['day'] = df['Date'].dt.day\n",
    "df['hour'] = df['Date'].dt.hour"
   ]
  },
  {
   "cell_type": "code",
   "execution_count": 328,
   "metadata": {},
   "outputs": [
    {
     "data": {
      "text/plain": [
       "array(['hyundai', 'tata', 'tata_hyundai'], dtype=object)"
      ]
     },
     "execution_count": 328,
     "metadata": {},
     "output_type": "execute_result"
    }
   ],
   "source": [
    "df['label'].unique() # Checking for unique labels\n",
    "df['label']=df['label'].str.lower()  \n",
    "\n",
    "df['label'].unique() # In order to reduce the redundance, i plan to create 3 labels - tata, hyundai, tata_hyundai\n",
    "\n",
    "label_keywords = {\n",
    "    'hyundai,cars':'hyundai', 'tata,cars':'tata', 'cars,tata':'tata', 'hyundai,cars,hyundai':'hyundai',\n",
    "       'cars,hyundai':'hyundai', 'hyundai,cars,cars':'hyundai', 'cars,tata,hyundai':'hyundai',\n",
    "       'cars,hyundai,tata':'tata_hyundai', 'tata,cars,tata':'tata', 'cars,cars,tata':'tata',\n",
    "       'cars,hyundai,cars':'hyundai', 'cars,hyundai,cars,tata':'tata_hyundai', 'tata,cars,hyundai':'tata_hyundai',\n",
    "       'tata,cars,cars':'tata', 'cars,tata,tata,hyundai':'tata_hyundai',\n",
    "       'hyundai,cars,tata,cars':'tata_hyundai', 'tata,tata,cars':'tata', 'tata,cars,tata,cars':'tata',\n",
    "       'hyundai,cars,tata':'tata_hyundai', 'hyundai,tata,cars':'tata_hyundai', 'cars,cars,tata,tata':'tata',\n",
    "       'cars,tata,tata':'tata', 'cars,tata,hyundai,cars':'tata_hyundai', 'cars,tata,cars':'tata',\n",
    "       'tata,cars,hyundai,cars':'tata_hyundai', 'tata,hyundai,cars':'tata_hyundai',\n",
    "       'cars,hyundai,hyundai,cars':'hyundai', 'cars,tata,cars,hyundai':'tata_hyundai'\n",
    "}\n",
    "\n",
    "df['label'] = df['label'].map(label_keywords)\n",
    "df['label'].unique()"
   ]
  },
  {
   "cell_type": "code",
   "execution_count": 329,
   "metadata": {},
   "outputs": [],
   "source": [
    "df # this is the absolute dataset.\n",
    "twitter_df=df[df['Source']=='Twitter']\n",
    "remaining_df = df[df['Source']!='Twitter']"
   ]
  },
  {
   "cell_type": "markdown",
   "metadata": {},
   "source": [
    "#### Twitter Dataset (dealing with missing values)"
   ]
  },
  {
   "cell_type": "code",
   "execution_count": 330,
   "metadata": {},
   "outputs": [
    {
     "name": "stderr",
     "output_type": "stream",
     "text": [
      "C:\\Users\\14708\\AppData\\Local\\Temp\\ipykernel_9428\\3111735953.py:4: SettingWithCopyWarning: \n",
      "A value is trying to be set on a copy of a slice from a DataFrame\n",
      "\n",
      "See the caveats in the documentation: https://pandas.pydata.org/pandas-docs/stable/user_guide/indexing.html#returning-a-view-versus-a-copy\n",
      "  twitter_df.drop(columns=[\n"
     ]
    },
    {
     "data": {
      "text/plain": [
       "Date              0\n",
       "URL               0\n",
       "Hit Sentence      0\n",
       "Source            0\n",
       "Influencer        0\n",
       "Country           0\n",
       "Language          0\n",
       "Reach             0\n",
       "Sentiment         0\n",
       "State           126\n",
       "label             0\n",
       "day               0\n",
       "hour              0\n",
       "dtype: int64"
      ]
     },
     "execution_count": 330,
     "metadata": {},
     "output_type": "execute_result"
    }
   ],
   "source": [
    "# Checking and dealing with null vlaues in twitter_df\n",
    "twitter_df.isna().sum()\n",
    "# it is wise to remove the columns with high null values\n",
    "twitter_df.drop(columns=[\n",
    "    'Headline', 'Opening Text', 'Desktop Reach', 'Mobile Reach', 'Twitter Social Echo', 'Facebook Social Echo', 'Reddit Social Echo'\n",
    "                         ], inplace=True)\n",
    "\n",
    "twitter_df.isna().sum()"
   ]
  },
  {
   "cell_type": "code",
   "execution_count": 331,
   "metadata": {},
   "outputs": [
    {
     "name": "stderr",
     "output_type": "stream",
     "text": [
      "C:\\Users\\14708\\AppData\\Local\\Temp\\ipykernel_9428\\2978578175.py:12: SettingWithCopyWarning: \n",
      "A value is trying to be set on a copy of a slice from a DataFrame.\n",
      "Try using .loc[row_indexer,col_indexer] = value instead\n",
      "\n",
      "See the caveats in the documentation: https://pandas.pydata.org/pandas-docs/stable/user_guide/indexing.html#returning-a-view-versus-a-copy\n",
      "  df[column_name] = df[column_name].apply(\n",
      "C:\\Users\\14708\\AppData\\Local\\Temp\\ipykernel_9428\\2978578175.py:12: SettingWithCopyWarning: \n",
      "A value is trying to be set on a copy of a slice from a DataFrame.\n",
      "Try using .loc[row_indexer,col_indexer] = value instead\n",
      "\n",
      "See the caveats in the documentation: https://pandas.pydata.org/pandas-docs/stable/user_guide/indexing.html#returning-a-view-versus-a-copy\n",
      "  df[column_name] = df[column_name].apply(\n",
      "C:\\Users\\14708\\AppData\\Local\\Temp\\ipykernel_9428\\2978578175.py:12: SettingWithCopyWarning: \n",
      "A value is trying to be set on a copy of a slice from a DataFrame.\n",
      "Try using .loc[row_indexer,col_indexer] = value instead\n",
      "\n",
      "See the caveats in the documentation: https://pandas.pydata.org/pandas-docs/stable/user_guide/indexing.html#returning-a-view-versus-a-copy\n",
      "  df[column_name] = df[column_name].apply(\n",
      "C:\\Users\\14708\\AppData\\Local\\Temp\\ipykernel_9428\\2978578175.py:12: SettingWithCopyWarning: \n",
      "A value is trying to be set on a copy of a slice from a DataFrame.\n",
      "Try using .loc[row_indexer,col_indexer] = value instead\n",
      "\n",
      "See the caveats in the documentation: https://pandas.pydata.org/pandas-docs/stable/user_guide/indexing.html#returning-a-view-versus-a-copy\n",
      "  df[column_name] = df[column_name].apply(\n"
     ]
    },
    {
     "name": "stdout",
     "output_type": "stream",
     "text": [
      "Tamil Nadu          247\n",
      "Maharashtra         110\n",
      "Karnataka            64\n",
      "Delhi                46\n",
      "Kerala               36\n",
      "                   ... \n",
      "Uttarakhand           1\n",
      "Tripura               1\n",
      "Goa                   1\n",
      "Mizoram               1\n",
      "Himachal Pradesh      1\n",
      "Name: State, Length: 28, dtype: int64\n"
     ]
    },
    {
     "name": "stderr",
     "output_type": "stream",
     "text": [
      "C:\\Users\\14708\\AppData\\Local\\Temp\\ipykernel_9428\\2978578175.py:12: SettingWithCopyWarning: \n",
      "A value is trying to be set on a copy of a slice from a DataFrame.\n",
      "Try using .loc[row_indexer,col_indexer] = value instead\n",
      "\n",
      "See the caveats in the documentation: https://pandas.pydata.org/pandas-docs/stable/user_guide/indexing.html#returning-a-view-versus-a-copy\n",
      "  df[column_name] = df[column_name].apply(\n",
      "C:\\Users\\14708\\AppData\\Local\\Temp\\ipykernel_9428\\2978578175.py:12: SettingWithCopyWarning: \n",
      "A value is trying to be set on a copy of a slice from a DataFrame.\n",
      "Try using .loc[row_indexer,col_indexer] = value instead\n",
      "\n",
      "See the caveats in the documentation: https://pandas.pydata.org/pandas-docs/stable/user_guide/indexing.html#returning-a-view-versus-a-copy\n",
      "  df[column_name] = df[column_name].apply(\n",
      "C:\\Users\\14708\\AppData\\Local\\Temp\\ipykernel_9428\\2978578175.py:12: SettingWithCopyWarning: \n",
      "A value is trying to be set on a copy of a slice from a DataFrame.\n",
      "Try using .loc[row_indexer,col_indexer] = value instead\n",
      "\n",
      "See the caveats in the documentation: https://pandas.pydata.org/pandas-docs/stable/user_guide/indexing.html#returning-a-view-versus-a-copy\n",
      "  df[column_name] = df[column_name].apply(\n",
      "C:\\Users\\14708\\AppData\\Local\\Temp\\ipykernel_9428\\2978578175.py:12: SettingWithCopyWarning: \n",
      "A value is trying to be set on a copy of a slice from a DataFrame.\n",
      "Try using .loc[row_indexer,col_indexer] = value instead\n",
      "\n",
      "See the caveats in the documentation: https://pandas.pydata.org/pandas-docs/stable/user_guide/indexing.html#returning-a-view-versus-a-copy\n",
      "  df[column_name] = df[column_name].apply(\n",
      "C:\\Users\\14708\\AppData\\Local\\Temp\\ipykernel_9428\\2978578175.py:12: SettingWithCopyWarning: \n",
      "A value is trying to be set on a copy of a slice from a DataFrame.\n",
      "Try using .loc[row_indexer,col_indexer] = value instead\n",
      "\n",
      "See the caveats in the documentation: https://pandas.pydata.org/pandas-docs/stable/user_guide/indexing.html#returning-a-view-versus-a-copy\n",
      "  df[column_name] = df[column_name].apply(\n",
      "C:\\Users\\14708\\AppData\\Local\\Temp\\ipykernel_9428\\2978578175.py:12: SettingWithCopyWarning: \n",
      "A value is trying to be set on a copy of a slice from a DataFrame.\n",
      "Try using .loc[row_indexer,col_indexer] = value instead\n",
      "\n",
      "See the caveats in the documentation: https://pandas.pydata.org/pandas-docs/stable/user_guide/indexing.html#returning-a-view-versus-a-copy\n",
      "  df[column_name] = df[column_name].apply(\n",
      "C:\\Users\\14708\\AppData\\Local\\Temp\\ipykernel_9428\\2978578175.py:12: SettingWithCopyWarning: \n",
      "A value is trying to be set on a copy of a slice from a DataFrame.\n",
      "Try using .loc[row_indexer,col_indexer] = value instead\n",
      "\n",
      "See the caveats in the documentation: https://pandas.pydata.org/pandas-docs/stable/user_guide/indexing.html#returning-a-view-versus-a-copy\n",
      "  df[column_name] = df[column_name].apply(\n",
      "C:\\Users\\14708\\AppData\\Local\\Temp\\ipykernel_9428\\2978578175.py:12: SettingWithCopyWarning: \n",
      "A value is trying to be set on a copy of a slice from a DataFrame.\n",
      "Try using .loc[row_indexer,col_indexer] = value instead\n",
      "\n",
      "See the caveats in the documentation: https://pandas.pydata.org/pandas-docs/stable/user_guide/indexing.html#returning-a-view-versus-a-copy\n",
      "  df[column_name] = df[column_name].apply(\n",
      "C:\\Users\\14708\\AppData\\Local\\Temp\\ipykernel_9428\\2978578175.py:12: SettingWithCopyWarning: \n",
      "A value is trying to be set on a copy of a slice from a DataFrame.\n",
      "Try using .loc[row_indexer,col_indexer] = value instead\n",
      "\n",
      "See the caveats in the documentation: https://pandas.pydata.org/pandas-docs/stable/user_guide/indexing.html#returning-a-view-versus-a-copy\n",
      "  df[column_name] = df[column_name].apply(\n"
     ]
    }
   ],
   "source": [
    "# I aim to fill the null values in the state column as per the value count ration of the non null values\n",
    "print(twitter_df['State'].value_counts())\n",
    "\n",
    "def fill_na_based_on_ratio(df, column_name):\n",
    "    value_counts = df[column_name].value_counts()\n",
    "    total_counts = value_counts.sum()\n",
    "    null_count = df[column_name].isnull().sum()\n",
    "    ratio = value_counts / total_counts\n",
    "    fill_values = ratio.index.to_list()\n",
    "    fill_probabilities = ratio.to_list()\n",
    "\n",
    "    df[column_name] = df[column_name].apply(\n",
    "        lambda x: np.random.choice(fill_values, p=fill_probabilities) if pd.isnull(x) else x\n",
    "    )\n",
    "\n",
    "# Fill null values in twitter_df\n",
    "for column in twitter_df.columns:\n",
    "    fill_na_based_on_ratio(twitter_df, column)"
   ]
  },
  {
   "cell_type": "markdown",
   "metadata": {},
   "source": [
    "#### Remaining Dataset (Dealing with missing Values)"
   ]
  },
  {
   "cell_type": "code",
   "execution_count": 332,
   "metadata": {},
   "outputs": [
    {
     "data": {
      "text/plain": [
       "Date                      0\n",
       "Headline                  0\n",
       "URL                       0\n",
       "Opening Text              0\n",
       "Hit Sentence              0\n",
       "Source                    0\n",
       "Influencer              463\n",
       "Country                   0\n",
       "Language                  0\n",
       "Reach                     0\n",
       "Desktop Reach             0\n",
       "Mobile Reach              0\n",
       "Twitter Social Echo       0\n",
       "Facebook Social Echo      0\n",
       "Reddit Social Echo        0\n",
       "Sentiment                 0\n",
       "State                   371\n",
       "label                     0\n",
       "day                       0\n",
       "hour                      0\n",
       "dtype: int64"
      ]
     },
     "execution_count": 332,
     "metadata": {},
     "output_type": "execute_result"
    }
   ],
   "source": [
    "remaining_df.isna().sum()"
   ]
  },
  {
   "cell_type": "code",
   "execution_count": 333,
   "metadata": {},
   "outputs": [
    {
     "name": "stderr",
     "output_type": "stream",
     "text": [
      "C:\\Users\\14708\\AppData\\Local\\Temp\\ipykernel_9428\\1376430963.py:2: SettingWithCopyWarning: \n",
      "A value is trying to be set on a copy of a slice from a DataFrame\n",
      "\n",
      "See the caveats in the documentation: https://pandas.pydata.org/pandas-docs/stable/user_guide/indexing.html#returning-a-view-versus-a-copy\n",
      "  remaining_df.drop(columns=['Influencer', 'State'], inplace=True)\n"
     ]
    }
   ],
   "source": [
    "# it makes sense to remove the Influence and State column in this dataset\n",
    "remaining_df.drop(columns=['Influencer', 'State'], inplace=True)"
   ]
  },
  {
   "cell_type": "code",
   "execution_count": 334,
   "metadata": {},
   "outputs": [
    {
     "data": {
      "text/html": [
       "<div>\n",
       "<style scoped>\n",
       "    .dataframe tbody tr th:only-of-type {\n",
       "        vertical-align: middle;\n",
       "    }\n",
       "\n",
       "    .dataframe tbody tr th {\n",
       "        vertical-align: top;\n",
       "    }\n",
       "\n",
       "    .dataframe thead th {\n",
       "        text-align: right;\n",
       "    }\n",
       "</style>\n",
       "<table border=\"1\" class=\"dataframe\">\n",
       "  <thead>\n",
       "    <tr style=\"text-align: right;\">\n",
       "      <th></th>\n",
       "      <th>Date</th>\n",
       "      <th>Headline</th>\n",
       "      <th>URL</th>\n",
       "      <th>Opening Text</th>\n",
       "      <th>Hit Sentence</th>\n",
       "      <th>Source</th>\n",
       "      <th>Country</th>\n",
       "      <th>Language</th>\n",
       "      <th>Reach</th>\n",
       "      <th>Desktop Reach</th>\n",
       "      <th>Mobile Reach</th>\n",
       "      <th>Twitter Social Echo</th>\n",
       "      <th>Facebook Social Echo</th>\n",
       "      <th>Reddit Social Echo</th>\n",
       "      <th>Sentiment</th>\n",
       "      <th>label</th>\n",
       "      <th>day</th>\n",
       "      <th>hour</th>\n",
       "    </tr>\n",
       "  </thead>\n",
       "  <tbody>\n",
       "    <tr>\n",
       "      <th>0</th>\n",
       "      <td>2023-09-28 14:08:00</td>\n",
       "      <td>Kia और Hyundai ने वापस बुलाईं अपनी 35 लाख कारे...</td>\n",
       "      <td>https://hindi.pardaphash.com/kia-and-hyundai-r...</td>\n",
       "      <td>Kia and Hyundai Recalled Cars: वाहन निर्माता क...</td>\n",
       "      <td>Kia and Hyundai Recalled Cars: वाहन निर्माता क...</td>\n",
       "      <td>Pardaphash</td>\n",
       "      <td>India</td>\n",
       "      <td>Hindi</td>\n",
       "      <td>31307.0</td>\n",
       "      <td>1279.0</td>\n",
       "      <td>30028.0</td>\n",
       "      <td>0.0</td>\n",
       "      <td>0.0</td>\n",
       "      <td>0.0</td>\n",
       "      <td>Neutral</td>\n",
       "      <td>hyundai</td>\n",
       "      <td>28</td>\n",
       "      <td>14</td>\n",
       "    </tr>\n",
       "    <tr>\n",
       "      <th>1</th>\n",
       "      <td>2023-09-28 13:46:00</td>\n",
       "      <td>Tata Punch EV spied, may compete with MG Comen...</td>\n",
       "      <td>https://economictimes.indiatimes.com/industry/...</td>\n",
       "      <td>Tata Motors is reportedly developing an electr...</td>\n",
       "      <td>... Punch EV is expected to compete with the M...</td>\n",
       "      <td>The Economic Times</td>\n",
       "      <td>India</td>\n",
       "      <td>English</td>\n",
       "      <td>15403059.0</td>\n",
       "      <td>6171732.0</td>\n",
       "      <td>9231327.0</td>\n",
       "      <td>0.0</td>\n",
       "      <td>0.0</td>\n",
       "      <td>0.0</td>\n",
       "      <td>Neutral</td>\n",
       "      <td>tata</td>\n",
       "      <td>28</td>\n",
       "      <td>13</td>\n",
       "    </tr>\n",
       "    <tr>\n",
       "      <th>2</th>\n",
       "      <td>2023-09-28 13:30:00</td>\n",
       "      <td>Tata Avinya Reviews On Road Price 2023 Mileage...</td>\n",
       "      <td>https://badisoch.in/automobile-news/tata-aviny...</td>\n",
       "      <td>... (adsbygoogle = window.adsbygoogle || []).p...</td>\n",
       "      <td>... , despite most carmakers focusing on large...</td>\n",
       "      <td>Badi Soch</td>\n",
       "      <td>India</td>\n",
       "      <td>English</td>\n",
       "      <td>1128280.0</td>\n",
       "      <td>171549.0</td>\n",
       "      <td>956731.0</td>\n",
       "      <td>0.0</td>\n",
       "      <td>0.0</td>\n",
       "      <td>0.0</td>\n",
       "      <td>Neutral</td>\n",
       "      <td>tata</td>\n",
       "      <td>28</td>\n",
       "      <td>13</td>\n",
       "    </tr>\n",
       "    <tr>\n",
       "      <th>5</th>\n",
       "      <td>2023-09-28 12:49:00</td>\n",
       "      <td>Oldest Indian Companies and Their Current Acti...</td>\n",
       "      <td>https://www.businessoutreach.in/oldest-indian-...</td>\n",
       "      <td>India’s rich еntrеprеnеurial history, dating b...</td>\n",
       "      <td>... on thе intеrnational stagе. Innovation and...</td>\n",
       "      <td>Business Outreach</td>\n",
       "      <td>India</td>\n",
       "      <td>English</td>\n",
       "      <td>71485.0</td>\n",
       "      <td>9301.0</td>\n",
       "      <td>62184.0</td>\n",
       "      <td>0.0</td>\n",
       "      <td>0.0</td>\n",
       "      <td>0.0</td>\n",
       "      <td>Positive</td>\n",
       "      <td>tata</td>\n",
       "      <td>28</td>\n",
       "      <td>12</td>\n",
       "    </tr>\n",
       "    <tr>\n",
       "      <th>6</th>\n",
       "      <td>2023-09-28 12:25:00</td>\n",
       "      <td>Maruti Suzuki Swift vs Tata Altroz: Comparing ...</td>\n",
       "      <td>https://nationalcybersecurity.com/maruti-suzuk...</td>\n",
       "      <td>For a safety-conscious buyer, it is important ...</td>\n",
       "      <td>... to consider the safest cars, or top safety...</td>\n",
       "      <td>National Cyber Security</td>\n",
       "      <td>India</td>\n",
       "      <td>English</td>\n",
       "      <td>817.0</td>\n",
       "      <td>428.0</td>\n",
       "      <td>389.0</td>\n",
       "      <td>0.0</td>\n",
       "      <td>0.0</td>\n",
       "      <td>0.0</td>\n",
       "      <td>Positive</td>\n",
       "      <td>tata</td>\n",
       "      <td>28</td>\n",
       "      <td>12</td>\n",
       "    </tr>\n",
       "    <tr>\n",
       "      <th>...</th>\n",
       "      <td>...</td>\n",
       "      <td>...</td>\n",
       "      <td>...</td>\n",
       "      <td>...</td>\n",
       "      <td>...</td>\n",
       "      <td>...</td>\n",
       "      <td>...</td>\n",
       "      <td>...</td>\n",
       "      <td>...</td>\n",
       "      <td>...</td>\n",
       "      <td>...</td>\n",
       "      <td>...</td>\n",
       "      <td>...</td>\n",
       "      <td>...</td>\n",
       "      <td>...</td>\n",
       "      <td>...</td>\n",
       "      <td>...</td>\n",
       "      <td>...</td>\n",
       "    </tr>\n",
       "    <tr>\n",
       "      <th>1522</th>\n",
       "      <td>2023-09-12 06:36:00</td>\n",
       "      <td>MG3 hatchback takes out ‘cheapest car to run’ ...</td>\n",
       "      <td>https://planetcirculate.com/mg3-hatchback-take...</td>\n",
       "      <td>A small car has claimed the title of the cheap...</td>\n",
       "      <td>... Costs Survey, which lists the cost of runn...</td>\n",
       "      <td>Planet Circulate</td>\n",
       "      <td>India</td>\n",
       "      <td>English</td>\n",
       "      <td>1142.0</td>\n",
       "      <td>1142.0</td>\n",
       "      <td>0.0</td>\n",
       "      <td>0.0</td>\n",
       "      <td>0.0</td>\n",
       "      <td>0.0</td>\n",
       "      <td>Positive</td>\n",
       "      <td>hyundai</td>\n",
       "      <td>12</td>\n",
       "      <td>6</td>\n",
       "    </tr>\n",
       "    <tr>\n",
       "      <th>1523</th>\n",
       "      <td>2023-09-12 06:20:00</td>\n",
       "      <td>MG3 hatchback takes out ‘cheapest car to run’ ...</td>\n",
       "      <td>https://bulletinreporter.com/mg3-hatchback-tak...</td>\n",
       "      <td>A small car has claimed the title of the cheap...</td>\n",
       "      <td>... Costs Survey, which lists the cost of runn...</td>\n",
       "      <td>Bulletin Reporter</td>\n",
       "      <td>India</td>\n",
       "      <td>English</td>\n",
       "      <td>2074.0</td>\n",
       "      <td>2074.0</td>\n",
       "      <td>0.0</td>\n",
       "      <td>0.0</td>\n",
       "      <td>0.0</td>\n",
       "      <td>0.0</td>\n",
       "      <td>Positive</td>\n",
       "      <td>hyundai</td>\n",
       "      <td>12</td>\n",
       "      <td>6</td>\n",
       "    </tr>\n",
       "    <tr>\n",
       "      <th>1524</th>\n",
       "      <td>2023-09-12 05:24:00</td>\n",
       "      <td>MG3 hatchback named by RACV as the most cost-e...</td>\n",
       "      <td>https://vervetimes.com/mg3-hatchback-named-by-...</td>\n",
       "      <td>A small car has claimed the title of the cheap...</td>\n",
       "      <td>... Costs Survey, which lists the cost of runn...</td>\n",
       "      <td>Verve times - Latest News around the World</td>\n",
       "      <td>India</td>\n",
       "      <td>English</td>\n",
       "      <td>26425.0</td>\n",
       "      <td>7491.0</td>\n",
       "      <td>18934.0</td>\n",
       "      <td>0.0</td>\n",
       "      <td>0.0</td>\n",
       "      <td>0.0</td>\n",
       "      <td>Positive</td>\n",
       "      <td>hyundai</td>\n",
       "      <td>12</td>\n",
       "      <td>5</td>\n",
       "    </tr>\n",
       "    <tr>\n",
       "      <th>1525</th>\n",
       "      <td>2023-09-12 04:37:00</td>\n",
       "      <td>RACV names MG3 hatchback as the cheapest vehic...</td>\n",
       "      <td>https://newsconcerns.com/racv-names-mg3-hatchb...</td>\n",
       "      <td>A small car has claimed the title of the cheap...</td>\n",
       "      <td>... Costs Survey, which lists the cost of runn...</td>\n",
       "      <td>News Concerns - Latest News Update</td>\n",
       "      <td>India</td>\n",
       "      <td>English</td>\n",
       "      <td>9323.0</td>\n",
       "      <td>2527.0</td>\n",
       "      <td>6796.0</td>\n",
       "      <td>0.0</td>\n",
       "      <td>0.0</td>\n",
       "      <td>0.0</td>\n",
       "      <td>Positive</td>\n",
       "      <td>hyundai</td>\n",
       "      <td>12</td>\n",
       "      <td>4</td>\n",
       "    </tr>\n",
       "    <tr>\n",
       "      <th>1526</th>\n",
       "      <td>2023-09-12 04:04:00</td>\n",
       "      <td>Tata Power EZ App Electrifies Green Revolution...</td>\n",
       "      <td>https://thenfapost.com/tata-power-ez-app-elect...</td>\n",
       "      <td>Tata Power EZ App Electrifies Green Revolution...</td>\n",
       "      <td>Charging hubs for leading cab fleet operators....</td>\n",
       "      <td>NFAPost</td>\n",
       "      <td>India</td>\n",
       "      <td>English</td>\n",
       "      <td>851.0</td>\n",
       "      <td>851.0</td>\n",
       "      <td>0.0</td>\n",
       "      <td>0.0</td>\n",
       "      <td>0.0</td>\n",
       "      <td>0.0</td>\n",
       "      <td>Neutral</td>\n",
       "      <td>tata</td>\n",
       "      <td>12</td>\n",
       "      <td>4</td>\n",
       "    </tr>\n",
       "  </tbody>\n",
       "</table>\n",
       "<p>710 rows × 18 columns</p>\n",
       "</div>"
      ],
      "text/plain": [
       "                    Date                                           Headline  \\\n",
       "0    2023-09-28 14:08:00  Kia और Hyundai ने वापस बुलाईं अपनी 35 लाख कारे...   \n",
       "1    2023-09-28 13:46:00  Tata Punch EV spied, may compete with MG Comen...   \n",
       "2    2023-09-28 13:30:00  Tata Avinya Reviews On Road Price 2023 Mileage...   \n",
       "5    2023-09-28 12:49:00  Oldest Indian Companies and Their Current Acti...   \n",
       "6    2023-09-28 12:25:00  Maruti Suzuki Swift vs Tata Altroz: Comparing ...   \n",
       "...                  ...                                                ...   \n",
       "1522 2023-09-12 06:36:00  MG3 hatchback takes out ‘cheapest car to run’ ...   \n",
       "1523 2023-09-12 06:20:00  MG3 hatchback takes out ‘cheapest car to run’ ...   \n",
       "1524 2023-09-12 05:24:00  MG3 hatchback named by RACV as the most cost-e...   \n",
       "1525 2023-09-12 04:37:00  RACV names MG3 hatchback as the cheapest vehic...   \n",
       "1526 2023-09-12 04:04:00  Tata Power EZ App Electrifies Green Revolution...   \n",
       "\n",
       "                                                    URL  \\\n",
       "0     https://hindi.pardaphash.com/kia-and-hyundai-r...   \n",
       "1     https://economictimes.indiatimes.com/industry/...   \n",
       "2     https://badisoch.in/automobile-news/tata-aviny...   \n",
       "5     https://www.businessoutreach.in/oldest-indian-...   \n",
       "6     https://nationalcybersecurity.com/maruti-suzuk...   \n",
       "...                                                 ...   \n",
       "1522  https://planetcirculate.com/mg3-hatchback-take...   \n",
       "1523  https://bulletinreporter.com/mg3-hatchback-tak...   \n",
       "1524  https://vervetimes.com/mg3-hatchback-named-by-...   \n",
       "1525  https://newsconcerns.com/racv-names-mg3-hatchb...   \n",
       "1526  https://thenfapost.com/tata-power-ez-app-elect...   \n",
       "\n",
       "                                           Opening Text  \\\n",
       "0     Kia and Hyundai Recalled Cars: वाहन निर्माता क...   \n",
       "1     Tata Motors is reportedly developing an electr...   \n",
       "2     ... (adsbygoogle = window.adsbygoogle || []).p...   \n",
       "5     India’s rich еntrеprеnеurial history, dating b...   \n",
       "6     For a safety-conscious buyer, it is important ...   \n",
       "...                                                 ...   \n",
       "1522  A small car has claimed the title of the cheap...   \n",
       "1523  A small car has claimed the title of the cheap...   \n",
       "1524  A small car has claimed the title of the cheap...   \n",
       "1525  A small car has claimed the title of the cheap...   \n",
       "1526  Tata Power EZ App Electrifies Green Revolution...   \n",
       "\n",
       "                                           Hit Sentence  \\\n",
       "0     Kia and Hyundai Recalled Cars: वाहन निर्माता क...   \n",
       "1     ... Punch EV is expected to compete with the M...   \n",
       "2     ... , despite most carmakers focusing on large...   \n",
       "5     ... on thе intеrnational stagе. Innovation and...   \n",
       "6     ... to consider the safest cars, or top safety...   \n",
       "...                                                 ...   \n",
       "1522  ... Costs Survey, which lists the cost of runn...   \n",
       "1523  ... Costs Survey, which lists the cost of runn...   \n",
       "1524  ... Costs Survey, which lists the cost of runn...   \n",
       "1525  ... Costs Survey, which lists the cost of runn...   \n",
       "1526  Charging hubs for leading cab fleet operators....   \n",
       "\n",
       "                                          Source Country Language       Reach  \\\n",
       "0                                     Pardaphash   India    Hindi     31307.0   \n",
       "1                             The Economic Times   India  English  15403059.0   \n",
       "2                                      Badi Soch   India  English   1128280.0   \n",
       "5                              Business Outreach   India  English     71485.0   \n",
       "6                        National Cyber Security   India  English       817.0   \n",
       "...                                          ...     ...      ...         ...   \n",
       "1522                            Planet Circulate   India  English      1142.0   \n",
       "1523                           Bulletin Reporter   India  English      2074.0   \n",
       "1524  Verve times - Latest News around the World   India  English     26425.0   \n",
       "1525          News Concerns - Latest News Update   India  English      9323.0   \n",
       "1526                                     NFAPost   India  English       851.0   \n",
       "\n",
       "      Desktop Reach  Mobile Reach  Twitter Social Echo  Facebook Social Echo  \\\n",
       "0            1279.0       30028.0                  0.0                   0.0   \n",
       "1         6171732.0     9231327.0                  0.0                   0.0   \n",
       "2          171549.0      956731.0                  0.0                   0.0   \n",
       "5            9301.0       62184.0                  0.0                   0.0   \n",
       "6             428.0         389.0                  0.0                   0.0   \n",
       "...             ...           ...                  ...                   ...   \n",
       "1522         1142.0           0.0                  0.0                   0.0   \n",
       "1523         2074.0           0.0                  0.0                   0.0   \n",
       "1524         7491.0       18934.0                  0.0                   0.0   \n",
       "1525         2527.0        6796.0                  0.0                   0.0   \n",
       "1526          851.0           0.0                  0.0                   0.0   \n",
       "\n",
       "      Reddit Social Echo Sentiment    label  day  hour  \n",
       "0                    0.0   Neutral  hyundai   28    14  \n",
       "1                    0.0   Neutral     tata   28    13  \n",
       "2                    0.0   Neutral     tata   28    13  \n",
       "5                    0.0  Positive     tata   28    12  \n",
       "6                    0.0  Positive     tata   28    12  \n",
       "...                  ...       ...      ...  ...   ...  \n",
       "1522                 0.0  Positive  hyundai   12     6  \n",
       "1523                 0.0  Positive  hyundai   12     6  \n",
       "1524                 0.0  Positive  hyundai   12     5  \n",
       "1525                 0.0  Positive  hyundai   12     4  \n",
       "1526                 0.0   Neutral     tata   12     4  \n",
       "\n",
       "[710 rows x 18 columns]"
      ]
     },
     "execution_count": 334,
     "metadata": {},
     "output_type": "execute_result"
    }
   ],
   "source": [
    "remaining_df"
   ]
  },
  {
   "cell_type": "code",
   "execution_count": 335,
   "metadata": {},
   "outputs": [],
   "source": [
    "# twitter data file\n",
    "twitter_df.to_csv('twitter_data.csv', index=False)"
   ]
  },
  {
   "cell_type": "code",
   "execution_count": 336,
   "metadata": {},
   "outputs": [],
   "source": [
    "# Remaining data file\n",
    "remaining_df.to_csv('remaining_df.csv', index=False)"
   ]
  },
  {
   "cell_type": "code",
   "execution_count": null,
   "metadata": {},
   "outputs": [],
   "source": []
  }
 ],
 "metadata": {
  "language_info": {
   "name": "python"
  }
 },
 "nbformat": 4,
 "nbformat_minor": 2
}
